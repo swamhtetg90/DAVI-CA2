{
  "cells": [
    {
      "cell_type": "markdown",
      "id": "5205cd7a",
      "metadata": {
        "id": "5205cd7a"
      },
      "source": [
        "# DAVI Data Cleaning\n",
        "## Group-10\n",
        "## Group Member: Devendran Yoheswaran, Kaung Myat San, Swam Htet Aung\n",
        "---"
      ]
    },
    {
      "cell_type": "markdown",
      "id": "ceed040b",
      "metadata": {
        "id": "ceed040b"
      },
      "source": [
        "## Meta Data\n",
        "---\n",
        "### Student Profiles\n",
        "\n",
        "> **Note:** Data is manually entered, so the values are not standardized.\n",
        "\n",
        "| **Field Name**                            | **Description**                                                                                                                          | **Example**                |\n",
        "| ----------------------------------------- | ---------------------------------------------------------------------------------------------------------------------------------------- | -------------------------- |\n",
        "| **STUDENT ID**                            | Student ID is made up of three attributes: `<Course code>-<Intake No>/<Index Number of student in the intake>`                           | `1101-013/001`             |\n",
        "| **GENDER**                                | Gender                                                                                                                                   | `M`, `F`                   |\n",
        "| **SG CITIZEN**                            | Singapore Citizen                                                                                                                        | `Y` or blank               |\n",
        "| **SG PR**                                 | Singapore Permanent Resident                                                                                                             | `Y` or blank               |\n",
        "| **FOREIGNER**                             | Neither SG Citizen nor SG PR (mutually exclusive with SG CITIZEN and SG PR)                                                              | `Y` or blank               |\n",
        "| **COUNTRY OF OTHER NATIONALITY**          | Country of nationality (only for SG PR or foreigner)                                                                                     | `Malaysia`, `India`, etc.  |\n",
        "| **DOB**                                   | Date of Birth. Format: `DD/MM/YYYY`                                                                                                      | `04/03/1978`               |\n",
        "| **HIGHEST QUALIFICATION**                 | Highest qualification attained prior to this course                                                                                      | `Certificate`, `Diploma`   |\n",
        "| **NAME OF QUALIFICATION AND INSTITUTION** | Institute where the highest qualification was attained                                                                                   | As provided by participant |\n",
        "| **DATE ATTAINED HIGHEST QUALIFICATION**   | Date when the qualification was awarded. Format: `DD/MM/YYYY`                                                                            | `06/11/2016`               |\n",
        "| **DESIGNATION**                           | Job designation                                                                                                                          | As provided by participant |\n",
        "| **COMMENCEMENT DATE**                     | Course start date. Format: `DD/MM/YYYY`                                                                                                  | `06/01/2023`               |\n",
        "| **COMPLETION DATE**                       | Course end date. Blank if course is ongoing. Format: `DD/MM/YYYY`                                                                        | `06/04/2024`               |\n",
        "| **FULL-TIME OR PART-TIME**                | Whether the course is Full-time or Part-time                                                                                             | `Full-Time`, `Part-Time`   |\n",
        "| **COURSE FUNDING**                        | Course funding type:<br>- `Individual`<br>- `Individual - SFC` (SkillsFuture Credit)<br>- `Sponsored`<br>- `Individual - waived App Fee` | `Individual - SFC`         |\n",
        "| **REGISTRATION FEE**                      | Registration fee in SGD                                                                                                                  | As entered                 |\n",
        "| **PAYMENT MODE**                          | Mode of payment                                                                                                                          | `NETS`, `Giro`, `PayNow`   |\n",
        "| **COURSE FEE**                            | Course fee in SGD                                                                                                                        | As entered                 |\n",
        "\n",
        "---\n",
        "\n",
        "### Course Codes\n",
        "\n",
        "| **S/N**         | **Description**        | **Example**                          |\n",
        "| --------------- | ---------------------- | ------------------------------------ |\n",
        "| **CODE**        | Course code (4 digits) | `1101`                               |\n",
        "| **COURSE NAME** | Course name            | `Diploma in Business Administration` |\n",
        "\n",
        "---\n",
        "\n",
        "### Semester Results\n",
        "\n",
        "| **S/N**        | **Description**                                                                                                           | **Example**    |\n",
        "| -------------- | ------------------------------------------------------------------------------------------------------------------------- | -------------- |\n",
        "| **STUDENT ID** | Must match the ID in the Student Profile dataset                                                                          | `1101-013/001` |\n",
        "| **PERIOD**     | Semester number<br>• Certificate: 1 semester<br>• Diploma: 3 semesters<br>• Master’s: 2 semesters (some exceptions apply) | `1`, `2`, `3`  |\n",
        "| **GPA**        | GPA for the semester.<br>• Max GPA: 4<br>• Pass GPA: Certificate/Diploma = 2, Master's = 2.3                              | `3.2`          |\n",
        "\n",
        "---\n"
      ]
    },
    {
      "cell_type": "markdown",
      "id": "93267ab1",
      "metadata": {
        "id": "93267ab1"
      },
      "source": [
        "## Importing Modules\n",
        "---"
      ]
    },
    {
      "cell_type": "code",
      "execution_count": null,
      "id": "ce25eebd",
      "metadata": {
        "id": "ce25eebd"
      },
      "outputs": [],
      "source": [
        "import pandas as pd\n",
        "import numpy as np"
      ]
    },
    {
      "cell_type": "markdown",
      "id": "21fb64e1",
      "metadata": {
        "id": "21fb64e1"
      },
      "source": [
        "## Loading Data\n",
        "---"
      ]
    },
    {
      "cell_type": "markdown",
      "id": "2c696379",
      "metadata": {
        "id": "2c696379"
      },
      "source": [
        "#### Course_Code Data"
      ]
    },
    {
      "cell_type": "code",
      "execution_count": null,
      "id": "2ad5c92b",
      "metadata": {
        "id": "2ad5c92b",
        "outputId": "192818e0-afb7-4cd2-b378-d55126a5c4b9"
      },
      "outputs": [
        {
          "data": {
            "application/vnd.microsoft.datawrangler.viewer.v0+json": {
              "columns": [
                {
                  "name": "index",
                  "rawType": "int64",
                  "type": "integer"
                },
                {
                  "name": "CODE",
                  "rawType": "int64",
                  "type": "integer"
                },
                {
                  "name": "COURSE NAME",
                  "rawType": "object",
                  "type": "string"
                }
              ],
              "ref": "a5107b2f-f3e8-45a1-8d4b-2d460ab87e91",
              "rows": [
                [
                  "0",
                  "1101",
                  "Diploma in Business Administration"
                ],
                [
                  "1",
                  "1102",
                  "Diploma in Business Analytics"
                ],
                [
                  "2",
                  "2101",
                  "Certificate in Digital Marketing"
                ],
                [
                  "3",
                  "2102",
                  "Certificate in HR Management"
                ],
                [
                  "4",
                  "2013",
                  "Certificate in Tourism Management"
                ]
              ],
              "shape": {
                "columns": 2,
                "rows": 5
              }
            },
            "text/html": [
              "<div>\n",
              "<style scoped>\n",
              "    .dataframe tbody tr th:only-of-type {\n",
              "        vertical-align: middle;\n",
              "    }\n",
              "\n",
              "    .dataframe tbody tr th {\n",
              "        vertical-align: top;\n",
              "    }\n",
              "\n",
              "    .dataframe thead th {\n",
              "        text-align: right;\n",
              "    }\n",
              "</style>\n",
              "<table border=\"1\" class=\"dataframe\">\n",
              "  <thead>\n",
              "    <tr style=\"text-align: right;\">\n",
              "      <th></th>\n",
              "      <th>CODE</th>\n",
              "      <th>COURSE NAME</th>\n",
              "    </tr>\n",
              "  </thead>\n",
              "  <tbody>\n",
              "    <tr>\n",
              "      <th>0</th>\n",
              "      <td>1101</td>\n",
              "      <td>Diploma in Business Administration</td>\n",
              "    </tr>\n",
              "    <tr>\n",
              "      <th>1</th>\n",
              "      <td>1102</td>\n",
              "      <td>Diploma in Business Analytics</td>\n",
              "    </tr>\n",
              "    <tr>\n",
              "      <th>2</th>\n",
              "      <td>2101</td>\n",
              "      <td>Certificate in Digital Marketing</td>\n",
              "    </tr>\n",
              "    <tr>\n",
              "      <th>3</th>\n",
              "      <td>2102</td>\n",
              "      <td>Certificate in HR Management</td>\n",
              "    </tr>\n",
              "    <tr>\n",
              "      <th>4</th>\n",
              "      <td>2013</td>\n",
              "      <td>Certificate in Tourism Management</td>\n",
              "    </tr>\n",
              "  </tbody>\n",
              "</table>\n",
              "</div>"
            ],
            "text/plain": [
              "   CODE                         COURSE NAME\n",
              "0  1101  Diploma in Business Administration\n",
              "1  1102       Diploma in Business Analytics\n",
              "2  2101    Certificate in Digital Marketing\n",
              "3  2102        Certificate in HR Management\n",
              "4  2013   Certificate in Tourism Management"
            ]
          },
          "execution_count": 2,
          "metadata": {},
          "output_type": "execute_result"
        }
      ],
      "source": [
        "course_code = pd.read_excel(\"https://github.com/swamhtetg90/DAVI-CA2/blob/main/DAVI%20CA2%20datasets%20and%20meta%20data/Course%20Codes.xlsx?raw=true\")\n",
        "course_code.head()"
      ]
    },
    {
      "cell_type": "markdown",
      "id": "d3267d9c",
      "metadata": {
        "id": "d3267d9c"
      },
      "source": [
        "#### Semester Results Data"
      ]
    },
    {
      "cell_type": "code",
      "execution_count": null,
      "id": "e55ec2e1",
      "metadata": {
        "id": "e55ec2e1",
        "outputId": "32117155-526f-4d96-ddd8-20c2b599803f"
      },
      "outputs": [
        {
          "data": {
            "application/vnd.microsoft.datawrangler.viewer.v0+json": {
              "columns": [
                {
                  "name": "index",
                  "rawType": "int64",
                  "type": "integer"
                },
                {
                  "name": "STUDENT ID",
                  "rawType": "object",
                  "type": "string"
                },
                {
                  "name": "PERIOD",
                  "rawType": "object",
                  "type": "string"
                },
                {
                  "name": "GPA",
                  "rawType": "float64",
                  "type": "float"
                }
              ],
              "ref": "dbc55238-8a61-4217-a5a8-db78cb13b583",
              "rows": [
                [
                  "0",
                  "1101-009/001",
                  "Sem 1",
                  "3.5"
                ],
                [
                  "1",
                  "1101-009/001",
                  "Sem 2",
                  "3.6"
                ],
                [
                  "2",
                  "1101-009/001",
                  "Sem 3",
                  "3.7"
                ],
                [
                  "3",
                  "1101-009/002",
                  "Sem 1",
                  "3.4"
                ],
                [
                  "4",
                  "1101-009/002",
                  "Sem 2",
                  "3.5"
                ]
              ],
              "shape": {
                "columns": 3,
                "rows": 5
              }
            },
            "text/html": [
              "<div>\n",
              "<style scoped>\n",
              "    .dataframe tbody tr th:only-of-type {\n",
              "        vertical-align: middle;\n",
              "    }\n",
              "\n",
              "    .dataframe tbody tr th {\n",
              "        vertical-align: top;\n",
              "    }\n",
              "\n",
              "    .dataframe thead th {\n",
              "        text-align: right;\n",
              "    }\n",
              "</style>\n",
              "<table border=\"1\" class=\"dataframe\">\n",
              "  <thead>\n",
              "    <tr style=\"text-align: right;\">\n",
              "      <th></th>\n",
              "      <th>STUDENT ID</th>\n",
              "      <th>PERIOD</th>\n",
              "      <th>GPA</th>\n",
              "    </tr>\n",
              "  </thead>\n",
              "  <tbody>\n",
              "    <tr>\n",
              "      <th>0</th>\n",
              "      <td>1101-009/001</td>\n",
              "      <td>Sem 1</td>\n",
              "      <td>3.5</td>\n",
              "    </tr>\n",
              "    <tr>\n",
              "      <th>1</th>\n",
              "      <td>1101-009/001</td>\n",
              "      <td>Sem 2</td>\n",
              "      <td>3.6</td>\n",
              "    </tr>\n",
              "    <tr>\n",
              "      <th>2</th>\n",
              "      <td>1101-009/001</td>\n",
              "      <td>Sem 3</td>\n",
              "      <td>3.7</td>\n",
              "    </tr>\n",
              "    <tr>\n",
              "      <th>3</th>\n",
              "      <td>1101-009/002</td>\n",
              "      <td>Sem 1</td>\n",
              "      <td>3.4</td>\n",
              "    </tr>\n",
              "    <tr>\n",
              "      <th>4</th>\n",
              "      <td>1101-009/002</td>\n",
              "      <td>Sem 2</td>\n",
              "      <td>3.5</td>\n",
              "    </tr>\n",
              "  </tbody>\n",
              "</table>\n",
              "</div>"
            ],
            "text/plain": [
              "     STUDENT ID PERIOD  GPA\n",
              "0  1101-009/001  Sem 1  3.5\n",
              "1  1101-009/001  Sem 2  3.6\n",
              "2  1101-009/001  Sem 3  3.7\n",
              "3  1101-009/002  Sem 1  3.4\n",
              "4  1101-009/002  Sem 2  3.5"
            ]
          },
          "execution_count": 4,
          "metadata": {},
          "output_type": "execute_result"
        }
      ],
      "source": [
        "semester_results = pd.read_excel(\"https://github.com/swamhtetg90/DAVI-CA2/blob/main/DAVI%20CA2%20datasets%20and%20meta%20data/Semester%20Results.xlsx?raw=true\")\n",
        "semester_results.head()"
      ]
    },
    {
      "cell_type": "markdown",
      "id": "28271629",
      "metadata": {
        "id": "28271629"
      },
      "source": [
        "#### Student Profiles Data"
      ]
    },
    {
      "cell_type": "code",
      "execution_count": null,
      "id": "0f92c8c0",
      "metadata": {
        "id": "0f92c8c0",
        "outputId": "8a1d8a7d-1604-4a8b-ffe3-b33857554455"
      },
      "outputs": [
        {
          "data": {
            "application/vnd.microsoft.datawrangler.viewer.v0+json": {
              "columns": [
                {
                  "name": "index",
                  "rawType": "int64",
                  "type": "integer"
                },
                {
                  "name": "STUDENT ID",
                  "rawType": "object",
                  "type": "string"
                },
                {
                  "name": "GENDER",
                  "rawType": "object",
                  "type": "string"
                },
                {
                  "name": "SG CITIZEN",
                  "rawType": "object",
                  "type": "string"
                },
                {
                  "name": "SG PR",
                  "rawType": "object",
                  "type": "unknown"
                },
                {
                  "name": "FOREIGNER",
                  "rawType": "object",
                  "type": "unknown"
                },
                {
                  "name": "COUNTRY OF OTHER NATIONALITY",
                  "rawType": "object",
                  "type": "unknown"
                },
                {
                  "name": "DOB",
                  "rawType": "object",
                  "type": "string"
                },
                {
                  "name": "HIGHEST QUALIFICATION",
                  "rawType": "object",
                  "type": "string"
                },
                {
                  "name": "NAME OF QUALIFICATION AND INSTITUTION",
                  "rawType": "object",
                  "type": "string"
                },
                {
                  "name": "DATE ATTAINED HIGHEST QUALIFICATION",
                  "rawType": "datetime64[ns]",
                  "type": "datetime"
                },
                {
                  "name": "DESIGNATION",
                  "rawType": "object",
                  "type": "string"
                },
                {
                  "name": "COMMENCEMENT DATE",
                  "rawType": "object",
                  "type": "unknown"
                },
                {
                  "name": "COMPLETION DATE",
                  "rawType": "object",
                  "type": "unknown"
                },
                {
                  "name": "FULL-TIME OR PART-TIME",
                  "rawType": "object",
                  "type": "string"
                },
                {
                  "name": "COURSE FUNDING",
                  "rawType": "object",
                  "type": "string"
                },
                {
                  "name": "REGISTRATION FEE",
                  "rawType": "object",
                  "type": "unknown"
                },
                {
                  "name": "PAYMENT MODE",
                  "rawType": "object",
                  "type": "string"
                },
                {
                  "name": "COURSE FEE",
                  "rawType": "int64",
                  "type": "integer"
                }
              ],
              "ref": "d4772e28-bb5e-4a8c-90d5-ba72d479f548",
              "rows": [
                [
                  "0",
                  "1101-009/001",
                  "F",
                  " ",
                  null,
                  "Y",
                  "Malaysia",
                  "13/09/1981",
                  "Certificate",
                  "SPM",
                  "2018-01-08 00:00:00",
                  "Admin & HR Assistant",
                  "2022-04-18 00:00:00",
                  "2023-09-17 00:00:00",
                  "Part-Time",
                  "Individual",
                  "107",
                  "GIRO",
                  "5136"
                ],
                [
                  "1",
                  "1101-009/002",
                  "F",
                  "Y",
                  null,
                  null,
                  null,
                  "26/07/1979",
                  "Certificate",
                  "Certificate in Office Skills, ITE",
                  "2016-06-08 00:00:00",
                  "Admin Assistant",
                  "2022-04-18 00:00:00",
                  "2023-09-17 00:00:00",
                  "Part-Time",
                  "Individual-SFC",
                  "107",
                  "NETS",
                  "5136"
                ],
                [
                  "2",
                  "1101-009/003",
                  "F",
                  " ",
                  null,
                  "Y",
                  "India",
                  "01/02/1990",
                  "Degree",
                  "Bachelor of Business Administration, University of Rajasthan, India",
                  "2015-08-08 00:00:00",
                  "-",
                  "2022-04-18 00:00:00",
                  "2023-09-17 00:00:00",
                  "Part-Time",
                  "Individual",
                  "107",
                  "NETS",
                  "5136"
                ],
                [
                  "3",
                  "1101-009/004",
                  "F",
                  " ",
                  null,
                  "Y",
                  "Netherlands",
                  "20/04/1976",
                  "Diploma",
                  "Office Management Diploma, NCOI Rotterdam, The Netherlands",
                  "2018-02-08 00:00:00",
                  "HR Support / Office Manager",
                  "2022-04-18 00:00:00",
                  "2023-09-17 00:00:00",
                  "Part-Time",
                  "Individual",
                  "107",
                  "NETS",
                  "5136"
                ],
                [
                  "4",
                  "1101-009/005",
                  "F",
                  "Y",
                  null,
                  null,
                  null,
                  "25/11/1983",
                  "Diploma",
                  "Diploma in Business Admininstration, LCCI Level 3, Private Secretary's Diploma, LCCI",
                  "2015-06-08 00:00:00",
                  "Executive, Administration",
                  "2022-04-18 00:00:00",
                  "2023-09-17 00:00:00",
                  "Part-Time",
                  "Sponsored",
                  "107",
                  "GIRO",
                  "4812"
                ]
              ],
              "shape": {
                "columns": 18,
                "rows": 5
              }
            },
            "text/html": [
              "<div>\n",
              "<style scoped>\n",
              "    .dataframe tbody tr th:only-of-type {\n",
              "        vertical-align: middle;\n",
              "    }\n",
              "\n",
              "    .dataframe tbody tr th {\n",
              "        vertical-align: top;\n",
              "    }\n",
              "\n",
              "    .dataframe thead th {\n",
              "        text-align: right;\n",
              "    }\n",
              "</style>\n",
              "<table border=\"1\" class=\"dataframe\">\n",
              "  <thead>\n",
              "    <tr style=\"text-align: right;\">\n",
              "      <th></th>\n",
              "      <th>STUDENT ID</th>\n",
              "      <th>GENDER</th>\n",
              "      <th>SG CITIZEN</th>\n",
              "      <th>SG PR</th>\n",
              "      <th>FOREIGNER</th>\n",
              "      <th>COUNTRY OF OTHER NATIONALITY</th>\n",
              "      <th>DOB</th>\n",
              "      <th>HIGHEST QUALIFICATION</th>\n",
              "      <th>NAME OF QUALIFICATION AND INSTITUTION</th>\n",
              "      <th>DATE ATTAINED HIGHEST QUALIFICATION</th>\n",
              "      <th>DESIGNATION</th>\n",
              "      <th>COMMENCEMENT DATE</th>\n",
              "      <th>COMPLETION DATE</th>\n",
              "      <th>FULL-TIME OR PART-TIME</th>\n",
              "      <th>COURSE FUNDING</th>\n",
              "      <th>REGISTRATION FEE</th>\n",
              "      <th>PAYMENT MODE</th>\n",
              "      <th>COURSE FEE</th>\n",
              "    </tr>\n",
              "  </thead>\n",
              "  <tbody>\n",
              "    <tr>\n",
              "      <th>0</th>\n",
              "      <td>1101-009/001</td>\n",
              "      <td>F</td>\n",
              "      <td></td>\n",
              "      <td>NaN</td>\n",
              "      <td>Y</td>\n",
              "      <td>Malaysia</td>\n",
              "      <td>13/09/1981</td>\n",
              "      <td>Certificate</td>\n",
              "      <td>SPM</td>\n",
              "      <td>2018-01-08</td>\n",
              "      <td>Admin &amp; HR Assistant</td>\n",
              "      <td>2022-04-18 00:00:00</td>\n",
              "      <td>2023-09-17 00:00:00</td>\n",
              "      <td>Part-Time</td>\n",
              "      <td>Individual</td>\n",
              "      <td>107</td>\n",
              "      <td>GIRO</td>\n",
              "      <td>5136</td>\n",
              "    </tr>\n",
              "    <tr>\n",
              "      <th>1</th>\n",
              "      <td>1101-009/002</td>\n",
              "      <td>F</td>\n",
              "      <td>Y</td>\n",
              "      <td>NaN</td>\n",
              "      <td>NaN</td>\n",
              "      <td>NaN</td>\n",
              "      <td>26/07/1979</td>\n",
              "      <td>Certificate</td>\n",
              "      <td>Certificate in Office Skills, ITE</td>\n",
              "      <td>2016-06-08</td>\n",
              "      <td>Admin Assistant</td>\n",
              "      <td>2022-04-18 00:00:00</td>\n",
              "      <td>2023-09-17 00:00:00</td>\n",
              "      <td>Part-Time</td>\n",
              "      <td>Individual-SFC</td>\n",
              "      <td>107</td>\n",
              "      <td>NETS</td>\n",
              "      <td>5136</td>\n",
              "    </tr>\n",
              "    <tr>\n",
              "      <th>2</th>\n",
              "      <td>1101-009/003</td>\n",
              "      <td>F</td>\n",
              "      <td></td>\n",
              "      <td>NaN</td>\n",
              "      <td>Y</td>\n",
              "      <td>India</td>\n",
              "      <td>01/02/1990</td>\n",
              "      <td>Degree</td>\n",
              "      <td>Bachelor of Business Administration, Universit...</td>\n",
              "      <td>2015-08-08</td>\n",
              "      <td>-</td>\n",
              "      <td>2022-04-18 00:00:00</td>\n",
              "      <td>2023-09-17 00:00:00</td>\n",
              "      <td>Part-Time</td>\n",
              "      <td>Individual</td>\n",
              "      <td>107</td>\n",
              "      <td>NETS</td>\n",
              "      <td>5136</td>\n",
              "    </tr>\n",
              "    <tr>\n",
              "      <th>3</th>\n",
              "      <td>1101-009/004</td>\n",
              "      <td>F</td>\n",
              "      <td></td>\n",
              "      <td>NaN</td>\n",
              "      <td>Y</td>\n",
              "      <td>Netherlands</td>\n",
              "      <td>20/04/1976</td>\n",
              "      <td>Diploma</td>\n",
              "      <td>Office Management Diploma, NCOI Rotterdam, The...</td>\n",
              "      <td>2018-02-08</td>\n",
              "      <td>HR Support / Office Manager</td>\n",
              "      <td>2022-04-18 00:00:00</td>\n",
              "      <td>2023-09-17 00:00:00</td>\n",
              "      <td>Part-Time</td>\n",
              "      <td>Individual</td>\n",
              "      <td>107</td>\n",
              "      <td>NETS</td>\n",
              "      <td>5136</td>\n",
              "    </tr>\n",
              "    <tr>\n",
              "      <th>4</th>\n",
              "      <td>1101-009/005</td>\n",
              "      <td>F</td>\n",
              "      <td>Y</td>\n",
              "      <td>NaN</td>\n",
              "      <td>NaN</td>\n",
              "      <td>NaN</td>\n",
              "      <td>25/11/1983</td>\n",
              "      <td>Diploma</td>\n",
              "      <td>Diploma in Business Admininstration, LCCI Leve...</td>\n",
              "      <td>2015-06-08</td>\n",
              "      <td>Executive, Administration</td>\n",
              "      <td>2022-04-18 00:00:00</td>\n",
              "      <td>2023-09-17 00:00:00</td>\n",
              "      <td>Part-Time</td>\n",
              "      <td>Sponsored</td>\n",
              "      <td>107</td>\n",
              "      <td>GIRO</td>\n",
              "      <td>4812</td>\n",
              "    </tr>\n",
              "  </tbody>\n",
              "</table>\n",
              "</div>"
            ],
            "text/plain": [
              "     STUDENT ID GENDER SG CITIZEN SG PR FOREIGNER  \\\n",
              "0  1101-009/001      F              NaN         Y   \n",
              "1  1101-009/002      F          Y   NaN       NaN   \n",
              "2  1101-009/003      F              NaN         Y   \n",
              "3  1101-009/004      F              NaN         Y   \n",
              "4  1101-009/005      F          Y   NaN       NaN   \n",
              "\n",
              "  COUNTRY OF OTHER NATIONALITY         DOB HIGHEST QUALIFICATION  \\\n",
              "0                     Malaysia  13/09/1981           Certificate   \n",
              "1                          NaN  26/07/1979           Certificate   \n",
              "2                        India  01/02/1990                Degree   \n",
              "3                  Netherlands  20/04/1976               Diploma   \n",
              "4                          NaN  25/11/1983               Diploma   \n",
              "\n",
              "               NAME OF QUALIFICATION AND INSTITUTION  \\\n",
              "0                                                SPM   \n",
              "1                  Certificate in Office Skills, ITE   \n",
              "2  Bachelor of Business Administration, Universit...   \n",
              "3  Office Management Diploma, NCOI Rotterdam, The...   \n",
              "4  Diploma in Business Admininstration, LCCI Leve...   \n",
              "\n",
              "  DATE ATTAINED HIGHEST QUALIFICATION                  DESIGNATION  \\\n",
              "0                          2018-01-08         Admin & HR Assistant   \n",
              "1                          2016-06-08              Admin Assistant   \n",
              "2                          2015-08-08                            -   \n",
              "3                          2018-02-08  HR Support / Office Manager   \n",
              "4                          2015-06-08    Executive, Administration   \n",
              "\n",
              "     COMMENCEMENT DATE      COMPLETION DATE FULL-TIME OR PART-TIME  \\\n",
              "0  2022-04-18 00:00:00  2023-09-17 00:00:00              Part-Time   \n",
              "1  2022-04-18 00:00:00  2023-09-17 00:00:00              Part-Time   \n",
              "2  2022-04-18 00:00:00  2023-09-17 00:00:00              Part-Time   \n",
              "3  2022-04-18 00:00:00  2023-09-17 00:00:00              Part-Time   \n",
              "4  2022-04-18 00:00:00  2023-09-17 00:00:00              Part-Time   \n",
              "\n",
              "   COURSE FUNDING REGISTRATION FEE PAYMENT MODE  COURSE FEE  \n",
              "0      Individual              107         GIRO        5136  \n",
              "1  Individual-SFC              107         NETS        5136  \n",
              "2      Individual              107         NETS        5136  \n",
              "3      Individual              107         NETS        5136  \n",
              "4       Sponsored              107         GIRO        4812  "
            ]
          },
          "execution_count": 5,
          "metadata": {},
          "output_type": "execute_result"
        }
      ],
      "source": [
        "student_profiles = pd.read_excel(\"https://github.com/swamhtetg90/DAVI-CA2/blob/main/DAVI%20CA2%20datasets%20and%20meta%20data/Student%20Profiles.xlsx?raw=true\")\n",
        "student_profiles.head()"
      ]
    },
    {
      "cell_type": "markdown",
      "id": "e0237d9f",
      "metadata": {
        "id": "e0237d9f"
      },
      "source": [
        "## Data Analysis\n",
        "---"
      ]
    },
    {
      "cell_type": "markdown",
      "source": [
        "#### Course Code"
      ],
      "metadata": {
        "id": "xN2u1lds5Ejx"
      },
      "id": "xN2u1lds5Ejx"
    },
    {
      "cell_type": "code",
      "execution_count": null,
      "id": "41131623",
      "metadata": {
        "id": "41131623",
        "outputId": "55331a69-3550-4f1c-e1ef-6728a84f0fd6"
      },
      "outputs": [
        {
          "name": "stdout",
          "output_type": "stream",
          "text": [
            "<class 'pandas.core.frame.DataFrame'>\n",
            "RangeIndex: 7 entries, 0 to 6\n",
            "Data columns (total 2 columns):\n",
            " #   Column       Non-Null Count  Dtype \n",
            "---  ------       --------------  ----- \n",
            " 0   CODE         7 non-null      int64 \n",
            " 1   COURSE NAME  7 non-null      object\n",
            "dtypes: int64(1), object(1)\n",
            "memory usage: 244.0+ bytes\n"
          ]
        }
      ],
      "source": [
        "course_code.info()"
      ]
    },
    {
      "cell_type": "code",
      "execution_count": null,
      "id": "c8460ca9",
      "metadata": {
        "id": "c8460ca9",
        "outputId": "f6c81d48-d51f-43c2-9707-8d67e14f6e22"
      },
      "outputs": [
        {
          "data": {
            "application/vnd.microsoft.datawrangler.viewer.v0+json": {
              "columns": [
                {
                  "name": "index",
                  "rawType": "int64",
                  "type": "integer"
                },
                {
                  "name": "CODE",
                  "rawType": "int64",
                  "type": "integer"
                },
                {
                  "name": "COURSE NAME",
                  "rawType": "object",
                  "type": "string"
                }
              ],
              "ref": "1c290cb9-8b78-4431-bd18-babfc791bd86",
              "rows": [
                [
                  "0",
                  "1101",
                  "Diploma in Business Administration"
                ],
                [
                  "1",
                  "1102",
                  "Diploma in Business Analytics"
                ],
                [
                  "2",
                  "2101",
                  "Certificate in Digital Marketing"
                ],
                [
                  "3",
                  "2102",
                  "Certificate in HR Management"
                ],
                [
                  "4",
                  "2013",
                  "Certificate in Tourism Management"
                ],
                [
                  "5",
                  "5112",
                  "Specialist Diploma in Business Innovation and Design"
                ],
                [
                  "6",
                  "5113",
                  "Specialist Diploma in Intelligent Systems"
                ]
              ],
              "shape": {
                "columns": 2,
                "rows": 7
              }
            },
            "text/html": [
              "<div>\n",
              "<style scoped>\n",
              "    .dataframe tbody tr th:only-of-type {\n",
              "        vertical-align: middle;\n",
              "    }\n",
              "\n",
              "    .dataframe tbody tr th {\n",
              "        vertical-align: top;\n",
              "    }\n",
              "\n",
              "    .dataframe thead th {\n",
              "        text-align: right;\n",
              "    }\n",
              "</style>\n",
              "<table border=\"1\" class=\"dataframe\">\n",
              "  <thead>\n",
              "    <tr style=\"text-align: right;\">\n",
              "      <th></th>\n",
              "      <th>CODE</th>\n",
              "      <th>COURSE NAME</th>\n",
              "    </tr>\n",
              "  </thead>\n",
              "  <tbody>\n",
              "    <tr>\n",
              "      <th>0</th>\n",
              "      <td>1101</td>\n",
              "      <td>Diploma in Business Administration</td>\n",
              "    </tr>\n",
              "    <tr>\n",
              "      <th>1</th>\n",
              "      <td>1102</td>\n",
              "      <td>Diploma in Business Analytics</td>\n",
              "    </tr>\n",
              "    <tr>\n",
              "      <th>2</th>\n",
              "      <td>2101</td>\n",
              "      <td>Certificate in Digital Marketing</td>\n",
              "    </tr>\n",
              "    <tr>\n",
              "      <th>3</th>\n",
              "      <td>2102</td>\n",
              "      <td>Certificate in HR Management</td>\n",
              "    </tr>\n",
              "    <tr>\n",
              "      <th>4</th>\n",
              "      <td>2013</td>\n",
              "      <td>Certificate in Tourism Management</td>\n",
              "    </tr>\n",
              "    <tr>\n",
              "      <th>5</th>\n",
              "      <td>5112</td>\n",
              "      <td>Specialist Diploma in Business Innovation and ...</td>\n",
              "    </tr>\n",
              "    <tr>\n",
              "      <th>6</th>\n",
              "      <td>5113</td>\n",
              "      <td>Specialist Diploma in Intelligent Systems</td>\n",
              "    </tr>\n",
              "  </tbody>\n",
              "</table>\n",
              "</div>"
            ],
            "text/plain": [
              "   CODE                                        COURSE NAME\n",
              "0  1101                 Diploma in Business Administration\n",
              "1  1102                      Diploma in Business Analytics\n",
              "2  2101                   Certificate in Digital Marketing\n",
              "3  2102                       Certificate in HR Management\n",
              "4  2013                  Certificate in Tourism Management\n",
              "5  5112  Specialist Diploma in Business Innovation and ...\n",
              "6  5113          Specialist Diploma in Intelligent Systems"
            ]
          },
          "execution_count": 7,
          "metadata": {},
          "output_type": "execute_result"
        }
      ],
      "source": [
        "course_code.head(10)"
      ]
    },
    {
      "cell_type": "markdown",
      "id": "3e4b1a96",
      "metadata": {
        "id": "3e4b1a96"
      },
      "source": [
        "### Course Code DataFrame Summary\n",
        "\n",
        "- The **`Course Code` DataFrame** contains **no null values**.\n",
        "- It has a total of **7 rows**.\n",
        "- The data appears to be **cleaned and ready for use**.\n"
      ]
    },
    {
      "cell_type": "markdown",
      "source": [
        "#### Student Profile"
      ],
      "metadata": {
        "id": "tSB5pHmt5IkB"
      },
      "id": "tSB5pHmt5IkB"
    },
    {
      "cell_type": "code",
      "source": [
        "import pandas as pd\n",
        "\n",
        "# Step 1: Get unique student IDs from each DataFrame\n",
        "ids_profiles = set(student_profiles['STUDENT ID'].dropna().unique())\n",
        "ids_results = set(semester_results['STUDENT ID'].dropna().unique())\n",
        "\n",
        "# Step 2: Compare sets\n",
        "if ids_profiles == ids_results:\n",
        "    print(\"STUDENT ID columns match exactly in both datasets.\")\n",
        "else:\n",
        "    print(\"Mismatch found between STUDENT ID columns.\")\n",
        "\n",
        "    # Extra: Show differences\n",
        "    only_in_profiles = ids_profiles - ids_results\n",
        "    only_in_results = ids_results - ids_profiles\n",
        "\n",
        "    if only_in_profiles:\n",
        "        print(\"Student IDs only in student_profiles:\")\n",
        "        print(only_in_profiles)\n",
        "\n",
        "    if only_in_results:\n",
        "        print(\"Student IDs only in semester_results:\")\n",
        "        print(only_in_results)\n"
      ],
      "metadata": {
        "id": "--IcOGLQ5Dyh",
        "outputId": "693061f2-f51f-488c-a838-7a3d82aaf014",
        "colab": {
          "base_uri": "https://localhost:8080/"
        }
      },
      "id": "--IcOGLQ5Dyh",
      "execution_count": null,
      "outputs": [
        {
          "output_type": "stream",
          "name": "stdout",
          "text": [
            "Mismatch found between STUDENT ID columns.\n",
            "Student IDs only in student_profiles:\n",
            "{'2101-111/004', '5113-009/004', '2101-111/006', '2101-111/007', '5113-009/002', '5113-009/003', '5113-009/006', '5113-009/005', '2101-111/001', '5113-009/007', '2101-111/003', '5113-009/001', '2101-111/008', '2101-111/002', '2101-111/005'}\n",
            "Student IDs only in semester_results:\n",
            "{'5112-007/003', '2101-106/001', '5112-007/004', '5112-007/005', '5112-007/001', '2101-106/005', '2101-106/004', '5112-007/002', '2101-106/003', '5112-007/006', '2101-106/002'}\n"
          ]
        }
      ]
    },
    {
      "cell_type": "code",
      "source": [
        "# Get sets of Student IDs\n",
        "ids_profiles = set(student_profiles['STUDENT ID'].dropna().unique())\n",
        "ids_results = set(semester_results['STUDENT ID'].dropna().unique())\n",
        "\n",
        "# Find mismatched IDs (present in semester_results but not in student_profiles)\n",
        "only_in_results = ids_results - ids_profiles\n",
        "\n",
        "# Filter and print those rows from semester_results\n",
        "mismatched_rows = semester_results[semester_results['STUDENT ID'].isin(only_in_results)]\n",
        "\n",
        "print(\"❌ Mismatched rows from semester_results:\")\n",
        "print(mismatched_rows)\n"
      ],
      "metadata": {
        "id": "o_dHZKQd5DvZ",
        "outputId": "14b7e48c-3c15-43b4-dcf5-466a3131cf7b",
        "colab": {
          "base_uri": "https://localhost:8080/"
        }
      },
      "id": "o_dHZKQd5DvZ",
      "execution_count": null,
      "outputs": [
        {
          "output_type": "stream",
          "name": "stdout",
          "text": [
            "❌ Mismatched rows from semester_results:\n",
            "       STUDENT ID PERIOD  GPA\n",
            "116  2101-106/001  Sem 1  2.4\n",
            "117  2101-106/002  Sem 1  3.1\n",
            "118  2101-106/003  Sem 1  3.4\n",
            "119  2101-106/004  Sem 1  2.8\n",
            "120  2101-106/005  Sem 1  2.3\n",
            "130  5112-007/001  Sem 1  2.9\n",
            "131  5112-007/001  Sem 2  3.8\n",
            "132  5112-007/002  Sem 1  3.2\n",
            "133  5112-007/002  Sem 2  3.3\n",
            "134  5112-007/003  Sem 1  3.6\n",
            "135  5112-007/003  Sem 2  3.7\n",
            "136  5112-007/004  Sem 1  3.5\n",
            "137  5112-007/004  Sem 2  2.6\n",
            "138  5112-007/005  Sem 1  2.1\n",
            "139  5112-007/005  Sem 2  2.3\n",
            "140  5112-007/006  Sem 1  3.2\n",
            "141  5112-007/006  Sem 2  3.1\n"
          ]
        }
      ]
    },
    {
      "cell_type": "code",
      "source": [
        "import pandas as pd\n",
        "\n",
        "# Extract all unique prefixes from semester_results\n",
        "prefixes = set(semester_results['STUDENT ID'].str.extract(r'^(\\d{4}-\\d{3})')[0])\n",
        "\n",
        "# Filter student_profiles to include only rows whose STUDENT ID starts with one of the prefixes\n",
        "matched_profiles = student_profiles[\n",
        "    student_profiles['STUDENT ID'].str.extract(r'^(\\d{4}-\\d{3})')[0].isin(prefixes)\n",
        "]\n",
        "\n",
        "# Display result\n",
        "print(\"✅ Matched student profiles (by prefix only):\")\n",
        "print(matched_profiles)\n"
      ],
      "metadata": {
        "id": "CYugstXQ7o6g",
        "outputId": "efa3f1b7-1a11-45bd-ef57-f89c7fc328a7",
        "colab": {
          "base_uri": "https://localhost:8080/"
        }
      },
      "id": "CYugstXQ7o6g",
      "execution_count": null,
      "outputs": [
        {
          "output_type": "stream",
          "name": "stdout",
          "text": [
            "✅ Matched student profiles (by prefix only):\n",
            "       STUDENT ID GENDER SG CITIZEN SG PR FOREIGNER  \\\n",
            "0    1101-009/001      F              NaN         Y   \n",
            "1    1101-009/002      F          Y   NaN       NaN   \n",
            "2    1101-009/003      F              NaN         Y   \n",
            "3    1101-009/004      F              NaN         Y   \n",
            "4    1101-009/005      F          Y   NaN       NaN   \n",
            "..            ...    ...        ...   ...       ...   \n",
            "295  5113-008/003      F          Y   NaN       NaN   \n",
            "296  5113-008/004      F          Y   NaN       NaN   \n",
            "297  5113-008/005      F          Y   NaN       NaN   \n",
            "298  5113-008/006      F          Y   NaN       NaN   \n",
            "299  5113-008/007      F        NaN   NaN         Y   \n",
            "\n",
            "    COUNTRY OF OTHER NATIONALITY         DOB HIGHEST QUALIFICATION  \\\n",
            "0                       Malaysia  13/09/1981           Certificate   \n",
            "1                            NaN  26/07/1979           Certificate   \n",
            "2                          India  01/02/1990                Degree   \n",
            "3                    Netherlands  20/04/1976               Diploma   \n",
            "4                            NaN  25/11/1983               Diploma   \n",
            "..                           ...         ...                   ...   \n",
            "295                          NaN  18/11/1991                Degree   \n",
            "296                          NaN  29/04/1974                Degree   \n",
            "297                          NaN  19/10/1981                Degree   \n",
            "298                          NaN  19/03/1971                Degree   \n",
            "299                        China  28/11/1998                Degree   \n",
            "\n",
            "                 NAME OF QUALIFICATION AND INSTITUTION  \\\n",
            "0                                                  SPM   \n",
            "1                    Certificate in Office Skills, ITE   \n",
            "2    Bachelor of Business Administration, Universit...   \n",
            "3    Office Management Diploma, NCOI Rotterdam, The...   \n",
            "4    Diploma in Business Admininstration, LCCI Leve...   \n",
            "..                                                 ...   \n",
            "295  Bachelor of Business (Marketing)/\\nRMIT Univer...   \n",
            "296  Bachelor of Commerce in Management and Marketi...   \n",
            "297  Bachelor of Arts in Human Resource Management,...   \n",
            "298  Bachelor of Arts (Sociology)/\\nState Universit...   \n",
            "299  Bachelor of Arts with Honours/\\nNational Unive...   \n",
            "\n",
            "    DATE ATTAINED HIGHEST QUALIFICATION                   DESIGNATION  \\\n",
            "0                            2018-01-08          Admin & HR Assistant   \n",
            "1                            2016-06-08               Admin Assistant   \n",
            "2                            2015-08-08                             -   \n",
            "3                            2018-02-08   HR Support / Office Manager   \n",
            "4                            2015-06-08     Executive, Administration   \n",
            "..                                  ...                           ...   \n",
            "295                          2017-03-21            Regional Recruiter   \n",
            "296                          2017-02-28        Confidential Assistant   \n",
            "297                          2018-01-30  Journey Management Team Lead   \n",
            "298                          1995-05-30   Academy Program Coordinator   \n",
            "299                          2019-11-30          Management Associate   \n",
            "\n",
            "       COMMENCEMENT DATE      COMPLETION DATE FULL-TIME OR PART-TIME  \\\n",
            "0    2022-04-18 00:00:00  2023-09-17 00:00:00              Part-Time   \n",
            "1    2022-04-18 00:00:00  2023-09-17 00:00:00              Part-Time   \n",
            "2    2022-04-18 00:00:00  2023-09-17 00:00:00              Part-Time   \n",
            "3    2022-04-18 00:00:00  2023-09-17 00:00:00              Part-Time   \n",
            "4    2022-04-18 00:00:00  2023-09-17 00:00:00              Part-Time   \n",
            "..                   ...                  ...                    ...   \n",
            "295  2024-04-08 00:00:00  2025-03-18 00:00:00              Part-Time   \n",
            "296  2024-04-08 00:00:00  2025-03-18 00:00:00              Part-Time   \n",
            "297  2024-04-08 00:00:00  2025-03-18 00:00:00              Part-Time   \n",
            "298  2024-04-08 00:00:00  2025-03-18 00:00:00              Part-Time   \n",
            "299  2024-04-08 00:00:00  2025-03-18 00:00:00              Part-Time   \n",
            "\n",
            "     COURSE FUNDING REGISTRATION FEE PAYMENT MODE  COURSE FEE  \\\n",
            "0        Individual              107         GIRO        5136   \n",
            "1    Individual-SFC              107         NETS        5136   \n",
            "2        Individual              107         NETS        5136   \n",
            "3        Individual              107         NETS        5136   \n",
            "4         Sponsored              107         GIRO        4812   \n",
            "..              ...              ...          ...         ...   \n",
            "295      Individual              107         Nets        5803   \n",
            "296      Individual              107         Nets        5803   \n",
            "297      Individual              107         Nets        5803   \n",
            "298      Individual              107         Nets        5803   \n",
            "299      Individual              107         Nets        5803   \n",
            "\n",
            "     Valid_ID_Format    Intake  \n",
            "0               True  1101-009  \n",
            "1               True  1101-009  \n",
            "2               True  1101-009  \n",
            "3               True  1101-009  \n",
            "4               True  1101-009  \n",
            "..               ...       ...  \n",
            "295             True  5113-008  \n",
            "296             True  5113-008  \n",
            "297             True  5113-008  \n",
            "298             True  5113-008  \n",
            "299             True  5113-008  \n",
            "\n",
            "[292 rows x 20 columns]\n"
          ]
        }
      ]
    },
    {
      "cell_type": "markdown",
      "id": "bd942b55",
      "metadata": {
        "id": "bd942b55"
      },
      "source": [
        "## Data Cleaning\n",
        "---"
      ]
    },
    {
      "cell_type": "code",
      "execution_count": null,
      "id": "3160bc6a",
      "metadata": {
        "id": "3160bc6a"
      },
      "outputs": [],
      "source": []
    },
    {
      "cell_type": "markdown",
      "id": "cde3ceea",
      "metadata": {
        "id": "cde3ceea"
      },
      "source": [
        "## Exporting Data\n",
        "---"
      ]
    },
    {
      "cell_type": "code",
      "execution_count": null,
      "id": "cd60ac4a",
      "metadata": {
        "id": "cd60ac4a"
      },
      "outputs": [],
      "source": []
    }
  ],
  "metadata": {
    "kernelspec": {
      "display_name": "Python 3",
      "language": "python",
      "name": "python3"
    },
    "language_info": {
      "codemirror_mode": {
        "name": "ipython",
        "version": 3
      },
      "file_extension": ".py",
      "mimetype": "text/x-python",
      "name": "python",
      "nbconvert_exporter": "python",
      "pygments_lexer": "ipython3",
      "version": "3.12.10"
    },
    "colab": {
      "provenance": []
    }
  },
  "nbformat": 4,
  "nbformat_minor": 5
}